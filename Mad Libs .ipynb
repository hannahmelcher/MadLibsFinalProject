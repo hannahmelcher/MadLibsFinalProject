{
 "cells": [
  {
   "cell_type": "code",
   "execution_count": 1,
   "id": "c168a013",
   "metadata": {},
   "outputs": [],
   "source": [
    "# Define the game\n",
    "\n",
    "def get_word(prompt):\n",
    "    return input(prompt + \": \")\n",
    "\n",
    "def generate_story(adjective1, noun1, verb1, adverb1, adjective2, noun2, adverb2, verb2, noun3):\n",
    "    return f\"The {adjective1} {noun1} {verb1} {adverb1} down the street. \" \\\n",
    "           f\"It was a {adjective2} day and the {noun2} was {adverb2}. \" \\\n",
    "           f\"Suddenly, a {verb2} appeared and the {noun3} started to dance!\""
   ]
  },
  {
   "cell_type": "code",
   "execution_count": 2,
   "id": "4c3e1524",
   "metadata": {},
   "outputs": [
    {
     "name": "stdout",
     "output_type": "stream",
     "text": [
      "Welcome to Mad Libs!\n",
      "Do you want to play Mad Libs? (yes/no): no\n",
      "Okay, maybe next time!\n"
     ]
    }
   ],
   "source": [
    "### Welcome the user\n",
    "\n",
    "print(\"Welcome to Mad Libs!\")\n",
    "play = input(\"Do you want to play Mad Libs? (yes/no): \")\n",
    "\n",
    "if play.lower() == \"yes\":\n",
    "    #Inputs to fill in the Mad Libs\n",
    "    adjective1 = get_word(\"Enter an adjective\")\n",
    "    noun1 = get_word(\"Enter a noun\")\n",
    "    verb1 = get_word(\"Enter a verb ending in -ed\")\n",
    "    adverb1 = get_word(\"Enter an adverb\")\n",
    "    adjective2 = get_word(\"Enter another adjective\")\n",
    "    noun2 = get_word(\"Enter another noun\")\n",
    "    verb2 = get_word(\"Enter a verb ending in -ing\")\n",
    "    noun3 = get_word(\"Enter another noun\")\n",
    "    noun4 = get_word(\"Enter a plural noun\")\n",
    "\n",
    "#Generate the Mad Libs story using the inputs\n",
    "    mad_libs = generate_story(adjective1, noun1, verb1, adverb1, adjective2, noun2, verb2, noun3, noun4)\n",
    "    \n",
    "#Print the completed Mad Libs\n",
    "    print(mad_libs)\n",
    "    \n",
    "#If player chose no to playing the game\n",
    "else:\n",
    "    print(\"Okay, maybe next time!\")"
   ]
  },
  {
   "cell_type": "markdown",
   "id": "abf0a788",
   "metadata": {},
   "source": []
  }
 ],
 "metadata": {
  "kernelspec": {
   "display_name": "Python 3 (ipykernel)",
   "language": "python",
   "name": "python3"
  },
  "language_info": {
   "codemirror_mode": {
    "name": "ipython",
    "version": 3
   },
   "file_extension": ".py",
   "mimetype": "text/x-python",
   "name": "python",
   "nbconvert_exporter": "python",
   "pygments_lexer": "ipython3",
   "version": "3.9.13"
  }
 },
 "nbformat": 4,
 "nbformat_minor": 5
}
